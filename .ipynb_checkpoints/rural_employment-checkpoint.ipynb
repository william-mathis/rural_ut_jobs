{
 "cells": [
  {
   "cell_type": "markdown",
   "metadata": {},
   "source": [
    "# How many jobs are being created in rural Utah?\n",
    "Earlier this year, Utah Governor Gary Herbert announced a new initiative to create 25,000 jobs in the counties off the Wasatch Front. The governor said it would take unprecedented collaboration to accomplish the goal. But an analysis by the Salt Lake Tribune of Department of Workforce Services labor data shows that 25,000 new jobs in four years would actually be a decrease from the previous four years. In fact, it would be the slowest consecturive four year period of job growth other than 2008-2012, a period affected by the great recession. \n",
    "\n",
    "Here's how we did the analysis. First we imported a spreadsheet of county- and sector-level employment for all of Utah going back to 2000."
   ]
  },
  {
   "cell_type": "code",
   "execution_count": 1,
   "metadata": {
    "collapsed": true,
    "deletable": true,
    "editable": true
   },
   "outputs": [],
   "source": [
    "import pandas as pd"
   ]
  },
  {
   "cell_type": "code",
   "execution_count": 2,
   "metadata": {
    "collapsed": true,
    "deletable": true,
    "editable": true
   },
   "outputs": [],
   "source": [
    "employment = pd.read_csv('econ_data_emp.csv')"
   ]
  },
  {
   "cell_type": "code",
   "execution_count": 7,
   "metadata": {
    "collapsed": false,
    "deletable": true,
    "editable": true
   },
   "outputs": [
    {
     "data": {
      "text/html": [
       "<div>\n",
       "<table border=\"1\" class=\"dataframe\">\n",
       "  <thead>\n",
       "    <tr style=\"text-align: right;\">\n",
       "      <th></th>\n",
       "      <th>Code</th>\n",
       "      <th>County</th>\n",
       "      <th>Description</th>\n",
       "      <th>Q1 2000</th>\n",
       "      <th>Q2 2000</th>\n",
       "      <th>Q3 2000</th>\n",
       "      <th>Q4 2000</th>\n",
       "      <th>Q1 2001</th>\n",
       "      <th>Q2 2001</th>\n",
       "      <th>Q3 2001</th>\n",
       "      <th>...</th>\n",
       "      <th>Q3 2014</th>\n",
       "      <th>Q4 2014</th>\n",
       "      <th>Q1 2015</th>\n",
       "      <th>Q2 2015</th>\n",
       "      <th>Q3 2015</th>\n",
       "      <th>Q4 2015</th>\n",
       "      <th>Q1 2016</th>\n",
       "      <th>Q2 2016</th>\n",
       "      <th>Q3 2016</th>\n",
       "      <th>Q4 2016</th>\n",
       "    </tr>\n",
       "  </thead>\n",
       "  <tbody>\n",
       "    <tr>\n",
       "      <th>0</th>\n",
       "      <td>NaN</td>\n",
       "      <td>Beaver</td>\n",
       "      <td>Total Nonfarm Employment</td>\n",
       "      <td>1884.0</td>\n",
       "      <td>1905.0</td>\n",
       "      <td>1913.0</td>\n",
       "      <td>1838.0</td>\n",
       "      <td>1798.0</td>\n",
       "      <td>1912.0</td>\n",
       "      <td>1879.0</td>\n",
       "      <td>...</td>\n",
       "      <td>2235.0</td>\n",
       "      <td>2273.0</td>\n",
       "      <td>2353.0</td>\n",
       "      <td>2398.0</td>\n",
       "      <td>2386.0</td>\n",
       "      <td>2383.0</td>\n",
       "      <td>2359.0</td>\n",
       "      <td>2317.0</td>\n",
       "      <td>2192.0</td>\n",
       "      <td>2217.0</td>\n",
       "    </tr>\n",
       "    <tr>\n",
       "      <th>1</th>\n",
       "      <td>11.0</td>\n",
       "      <td>Beaver</td>\n",
       "      <td>Agriculture, forestry, fishing and hunting (11)</td>\n",
       "      <td>416.0</td>\n",
       "      <td>426.0</td>\n",
       "      <td>417.0</td>\n",
       "      <td>413.0</td>\n",
       "      <td>437.0</td>\n",
       "      <td>432.0</td>\n",
       "      <td>471.0</td>\n",
       "      <td>...</td>\n",
       "      <td>504.0</td>\n",
       "      <td>500.0</td>\n",
       "      <td>456.0</td>\n",
       "      <td>504.0</td>\n",
       "      <td>507.0</td>\n",
       "      <td>501.0</td>\n",
       "      <td>501.0</td>\n",
       "      <td>507.0</td>\n",
       "      <td>500.0</td>\n",
       "      <td>491.0</td>\n",
       "    </tr>\n",
       "    <tr>\n",
       "      <th>2</th>\n",
       "      <td>21.0</td>\n",
       "      <td>Beaver</td>\n",
       "      <td>Mining (21)</td>\n",
       "      <td>33.0</td>\n",
       "      <td>37.0</td>\n",
       "      <td>37.0</td>\n",
       "      <td>43.0</td>\n",
       "      <td>43.0</td>\n",
       "      <td>47.0</td>\n",
       "      <td>45.0</td>\n",
       "      <td>...</td>\n",
       "      <td>201.0</td>\n",
       "      <td>214.0</td>\n",
       "      <td>NaN</td>\n",
       "      <td>NaN</td>\n",
       "      <td>NaN</td>\n",
       "      <td>NaN</td>\n",
       "      <td>NaN</td>\n",
       "      <td>NaN</td>\n",
       "      <td>NaN</td>\n",
       "      <td>NaN</td>\n",
       "    </tr>\n",
       "    <tr>\n",
       "      <th>3</th>\n",
       "      <td>22.0</td>\n",
       "      <td>Beaver</td>\n",
       "      <td>Utilities (22)</td>\n",
       "      <td>43.0</td>\n",
       "      <td>42.0</td>\n",
       "      <td>39.0</td>\n",
       "      <td>39.0</td>\n",
       "      <td>38.0</td>\n",
       "      <td>37.0</td>\n",
       "      <td>38.0</td>\n",
       "      <td>...</td>\n",
       "      <td>51.0</td>\n",
       "      <td>52.0</td>\n",
       "      <td>50.0</td>\n",
       "      <td>50.0</td>\n",
       "      <td>53.0</td>\n",
       "      <td>54.0</td>\n",
       "      <td>56.0</td>\n",
       "      <td>49.0</td>\n",
       "      <td>46.0</td>\n",
       "      <td>39.0</td>\n",
       "    </tr>\n",
       "    <tr>\n",
       "      <th>4</th>\n",
       "      <td>23.0</td>\n",
       "      <td>Beaver</td>\n",
       "      <td>Construction (23)</td>\n",
       "      <td>124.0</td>\n",
       "      <td>120.0</td>\n",
       "      <td>117.0</td>\n",
       "      <td>117.0</td>\n",
       "      <td>99.0</td>\n",
       "      <td>126.0</td>\n",
       "      <td>110.0</td>\n",
       "      <td>...</td>\n",
       "      <td>92.0</td>\n",
       "      <td>92.0</td>\n",
       "      <td>95.0</td>\n",
       "      <td>104.0</td>\n",
       "      <td>131.0</td>\n",
       "      <td>115.0</td>\n",
       "      <td>100.0</td>\n",
       "      <td>118.0</td>\n",
       "      <td>127.0</td>\n",
       "      <td>144.0</td>\n",
       "    </tr>\n",
       "  </tbody>\n",
       "</table>\n",
       "<p>5 rows × 71 columns</p>\n",
       "</div>"
      ],
      "text/plain": [
       "   Code  County                                      Description  Q1 2000  \\\n",
       "0   NaN  Beaver                         Total Nonfarm Employment   1884.0   \n",
       "1  11.0  Beaver  Agriculture, forestry, fishing and hunting (11)    416.0   \n",
       "2  21.0  Beaver                                      Mining (21)     33.0   \n",
       "3  22.0  Beaver                                   Utilities (22)     43.0   \n",
       "4  23.0  Beaver                                Construction (23)    124.0   \n",
       "\n",
       "   Q2 2000  Q3 2000  Q4 2000  Q1 2001  Q2 2001  Q3 2001   ...     Q3 2014  \\\n",
       "0   1905.0   1913.0   1838.0   1798.0   1912.0   1879.0   ...      2235.0   \n",
       "1    426.0    417.0    413.0    437.0    432.0    471.0   ...       504.0   \n",
       "2     37.0     37.0     43.0     43.0     47.0     45.0   ...       201.0   \n",
       "3     42.0     39.0     39.0     38.0     37.0     38.0   ...        51.0   \n",
       "4    120.0    117.0    117.0     99.0    126.0    110.0   ...        92.0   \n",
       "\n",
       "   Q4 2014  Q1 2015  Q2 2015  Q3 2015  Q4 2015  Q1 2016  Q2 2016  Q3 2016  \\\n",
       "0   2273.0   2353.0   2398.0   2386.0   2383.0   2359.0   2317.0   2192.0   \n",
       "1    500.0    456.0    504.0    507.0    501.0    501.0    507.0    500.0   \n",
       "2    214.0      NaN      NaN      NaN      NaN      NaN      NaN      NaN   \n",
       "3     52.0     50.0     50.0     53.0     54.0     56.0     49.0     46.0   \n",
       "4     92.0     95.0    104.0    131.0    115.0    100.0    118.0    127.0   \n",
       "\n",
       "   Q4 2016  \n",
       "0   2217.0  \n",
       "1    491.0  \n",
       "2      NaN  \n",
       "3     39.0  \n",
       "4    144.0  \n",
       "\n",
       "[5 rows x 71 columns]"
      ]
     },
     "execution_count": 7,
     "metadata": {},
     "output_type": "execute_result"
    }
   ],
   "source": [
    "employment.head()"
   ]
  },
  {
   "cell_type": "markdown",
   "metadata": {},
   "source": [
    "Then we limited the spreadsheet to break it into four-year periods. We also selected only for totals, so that we would only see the total number of job in each county in each year."
   ]
  },
  {
   "cell_type": "code",
   "execution_count": 6,
   "metadata": {
    "collapsed": false,
    "deletable": true,
    "editable": true
   },
   "outputs": [],
   "source": [
    "fouryears = employment[['County','Description','Q4_2000','Q4_2004','Q4_2008','Q4_2012','Q4_2016']]"
   ]
  },
  {
   "cell_type": "code",
   "execution_count": 7,
   "metadata": {
    "collapsed": false,
    "deletable": true,
    "editable": true
   },
   "outputs": [],
   "source": [
    "fouryears_total = fouryears[fouryears.Description=='Total_Nonfarm_Employment']"
   ]
  },
  {
   "cell_type": "code",
   "execution_count": 8,
   "metadata": {
    "collapsed": false,
    "deletable": true,
    "editable": true,
    "scrolled": true
   },
   "outputs": [
    {
     "data": {
      "text/html": [
       "<div>\n",
       "<table border=\"1\" class=\"dataframe\">\n",
       "  <thead>\n",
       "    <tr style=\"text-align: right;\">\n",
       "      <th></th>\n",
       "      <th>County</th>\n",
       "      <th>Description</th>\n",
       "      <th>Q4_2000</th>\n",
       "      <th>Q4_2004</th>\n",
       "      <th>Q4_2008</th>\n",
       "      <th>Q4_2012</th>\n",
       "      <th>Q4_2016</th>\n",
       "    </tr>\n",
       "  </thead>\n",
       "  <tbody>\n",
       "    <tr>\n",
       "      <th>0</th>\n",
       "      <td>Beaver</td>\n",
       "      <td>Total_Nonfarm_Employment</td>\n",
       "      <td>1838.0</td>\n",
       "      <td>1889.0</td>\n",
       "      <td>2131.0</td>\n",
       "      <td>2160.0</td>\n",
       "      <td>2217.0</td>\n",
       "    </tr>\n",
       "    <tr>\n",
       "      <th>23</th>\n",
       "      <td>Box_Elder</td>\n",
       "      <td>Total_Nonfarm_Employment</td>\n",
       "      <td>17897.0</td>\n",
       "      <td>18494.0</td>\n",
       "      <td>20056.0</td>\n",
       "      <td>16469.0</td>\n",
       "      <td>20061.0</td>\n",
       "    </tr>\n",
       "    <tr>\n",
       "      <th>46</th>\n",
       "      <td>Cache</td>\n",
       "      <td>Total_Nonfarm_Employment</td>\n",
       "      <td>43302.0</td>\n",
       "      <td>47479.0</td>\n",
       "      <td>51417.0</td>\n",
       "      <td>52889.0</td>\n",
       "      <td>58513.0</td>\n",
       "    </tr>\n",
       "    <tr>\n",
       "      <th>69</th>\n",
       "      <td>Carbon</td>\n",
       "      <td>Total_Nonfarm_Employment</td>\n",
       "      <td>8695.0</td>\n",
       "      <td>8740.0</td>\n",
       "      <td>10162.0</td>\n",
       "      <td>8997.0</td>\n",
       "      <td>8307.0</td>\n",
       "    </tr>\n",
       "    <tr>\n",
       "      <th>92</th>\n",
       "      <td>Daggett</td>\n",
       "      <td>Total_Nonfarm_Employment</td>\n",
       "      <td>413.0</td>\n",
       "      <td>398.0</td>\n",
       "      <td>378.0</td>\n",
       "      <td>376.0</td>\n",
       "      <td>368.0</td>\n",
       "    </tr>\n",
       "    <tr>\n",
       "      <th>115</th>\n",
       "      <td>Davis</td>\n",
       "      <td>Total_Nonfarm_Employment</td>\n",
       "      <td>86187.0</td>\n",
       "      <td>94930.0</td>\n",
       "      <td>102731.0</td>\n",
       "      <td>109551.0</td>\n",
       "      <td>124198.0</td>\n",
       "    </tr>\n",
       "    <tr>\n",
       "      <th>138</th>\n",
       "      <td>Duchesne</td>\n",
       "      <td>Total_Nonfarm_Employment</td>\n",
       "      <td>4906.0</td>\n",
       "      <td>5553.0</td>\n",
       "      <td>8810.0</td>\n",
       "      <td>9241.0</td>\n",
       "      <td>7702.0</td>\n",
       "    </tr>\n",
       "    <tr>\n",
       "      <th>161</th>\n",
       "      <td>Emery</td>\n",
       "      <td>Total_Nonfarm_Employment</td>\n",
       "      <td>3509.0</td>\n",
       "      <td>3753.0</td>\n",
       "      <td>3542.0</td>\n",
       "      <td>3374.0</td>\n",
       "      <td>3048.0</td>\n",
       "    </tr>\n",
       "    <tr>\n",
       "      <th>184</th>\n",
       "      <td>Garfield</td>\n",
       "      <td>Total_Nonfarm_Employment</td>\n",
       "      <td>1991.0</td>\n",
       "      <td>2076.0</td>\n",
       "      <td>2274.0</td>\n",
       "      <td>2066.0</td>\n",
       "      <td>2208.0</td>\n",
       "    </tr>\n",
       "    <tr>\n",
       "      <th>207</th>\n",
       "      <td>Grand</td>\n",
       "      <td>Total_Nonfarm_Employment</td>\n",
       "      <td>3976.0</td>\n",
       "      <td>3990.0</td>\n",
       "      <td>4403.0</td>\n",
       "      <td>4547.0</td>\n",
       "      <td>5125.0</td>\n",
       "    </tr>\n",
       "    <tr>\n",
       "      <th>230</th>\n",
       "      <td>Iron</td>\n",
       "      <td>Total_Nonfarm_Employment</td>\n",
       "      <td>14457.0</td>\n",
       "      <td>15685.0</td>\n",
       "      <td>16852.0</td>\n",
       "      <td>15688.0</td>\n",
       "      <td>18259.0</td>\n",
       "    </tr>\n",
       "    <tr>\n",
       "      <th>253</th>\n",
       "      <td>Juab</td>\n",
       "      <td>Total_Nonfarm_Employment</td>\n",
       "      <td>2539.0</td>\n",
       "      <td>2916.0</td>\n",
       "      <td>3407.0</td>\n",
       "      <td>3183.0</td>\n",
       "      <td>3491.0</td>\n",
       "    </tr>\n",
       "    <tr>\n",
       "      <th>276</th>\n",
       "      <td>Kane</td>\n",
       "      <td>Total_Nonfarm_Employment</td>\n",
       "      <td>2714.0</td>\n",
       "      <td>2721.0</td>\n",
       "      <td>3097.0</td>\n",
       "      <td>2896.0</td>\n",
       "      <td>3279.0</td>\n",
       "    </tr>\n",
       "    <tr>\n",
       "      <th>299</th>\n",
       "      <td>Millard</td>\n",
       "      <td>Total_Nonfarm_Employment</td>\n",
       "      <td>3494.0</td>\n",
       "      <td>3827.0</td>\n",
       "      <td>3968.0</td>\n",
       "      <td>3907.0</td>\n",
       "      <td>4165.0</td>\n",
       "    </tr>\n",
       "    <tr>\n",
       "      <th>322</th>\n",
       "      <td>Morgan</td>\n",
       "      <td>Total_Nonfarm_Employment</td>\n",
       "      <td>1561.0</td>\n",
       "      <td>1876.0</td>\n",
       "      <td>1887.0</td>\n",
       "      <td>1807.0</td>\n",
       "      <td>2165.0</td>\n",
       "    </tr>\n",
       "    <tr>\n",
       "      <th>345</th>\n",
       "      <td>Piute</td>\n",
       "      <td>Total_Nonfarm_Employment</td>\n",
       "      <td>237.0</td>\n",
       "      <td>339.0</td>\n",
       "      <td>362.0</td>\n",
       "      <td>251.0</td>\n",
       "      <td>235.0</td>\n",
       "    </tr>\n",
       "    <tr>\n",
       "      <th>368</th>\n",
       "      <td>Rich</td>\n",
       "      <td>Total_Nonfarm_Employment</td>\n",
       "      <td>475.0</td>\n",
       "      <td>592.0</td>\n",
       "      <td>700.0</td>\n",
       "      <td>519.0</td>\n",
       "      <td>658.0</td>\n",
       "    </tr>\n",
       "    <tr>\n",
       "      <th>391</th>\n",
       "      <td>Salt_Lake</td>\n",
       "      <td>Total_Nonfarm_Employment</td>\n",
       "      <td>556442.0</td>\n",
       "      <td>546519.0</td>\n",
       "      <td>602520.0</td>\n",
       "      <td>618246.0</td>\n",
       "      <td>697332.0</td>\n",
       "    </tr>\n",
       "    <tr>\n",
       "      <th>414</th>\n",
       "      <td>San_Juan</td>\n",
       "      <td>Total_Nonfarm_Employment</td>\n",
       "      <td>3905.0</td>\n",
       "      <td>3867.0</td>\n",
       "      <td>4214.0</td>\n",
       "      <td>3972.0</td>\n",
       "      <td>4155.0</td>\n",
       "    </tr>\n",
       "    <tr>\n",
       "      <th>437</th>\n",
       "      <td>Sanpete</td>\n",
       "      <td>Total_Nonfarm_Employment</td>\n",
       "      <td>7088.0</td>\n",
       "      <td>7109.0</td>\n",
       "      <td>7791.0</td>\n",
       "      <td>7402.0</td>\n",
       "      <td>7991.0</td>\n",
       "    </tr>\n",
       "    <tr>\n",
       "      <th>460</th>\n",
       "      <td>Sevier</td>\n",
       "      <td>Total_Nonfarm_Employment</td>\n",
       "      <td>7128.0</td>\n",
       "      <td>7581.0</td>\n",
       "      <td>8053.0</td>\n",
       "      <td>8049.0</td>\n",
       "      <td>8488.0</td>\n",
       "    </tr>\n",
       "    <tr>\n",
       "      <th>483</th>\n",
       "      <td>Summit</td>\n",
       "      <td>Total_Nonfarm_Employment</td>\n",
       "      <td>15442.0</td>\n",
       "      <td>17991.0</td>\n",
       "      <td>21744.0</td>\n",
       "      <td>22962.0</td>\n",
       "      <td>26109.0</td>\n",
       "    </tr>\n",
       "    <tr>\n",
       "      <th>506</th>\n",
       "      <td>Tooele</td>\n",
       "      <td>Total_Nonfarm_Employment</td>\n",
       "      <td>11478.0</td>\n",
       "      <td>12609.0</td>\n",
       "      <td>15538.0</td>\n",
       "      <td>15628.0</td>\n",
       "      <td>16178.0</td>\n",
       "    </tr>\n",
       "    <tr>\n",
       "      <th>529</th>\n",
       "      <td>Uintah</td>\n",
       "      <td>Total_Nonfarm_Employment</td>\n",
       "      <td>9586.0</td>\n",
       "      <td>11174.0</td>\n",
       "      <td>15945.0</td>\n",
       "      <td>14966.0</td>\n",
       "      <td>12167.0</td>\n",
       "    </tr>\n",
       "    <tr>\n",
       "      <th>552</th>\n",
       "      <td>Utah</td>\n",
       "      <td>Total_Nonfarm_Employment</td>\n",
       "      <td>157657.0</td>\n",
       "      <td>166154.0</td>\n",
       "      <td>185535.0</td>\n",
       "      <td>197581.0</td>\n",
       "      <td>241834.0</td>\n",
       "    </tr>\n",
       "    <tr>\n",
       "      <th>575</th>\n",
       "      <td>Wasatch</td>\n",
       "      <td>Total_Nonfarm_Employment</td>\n",
       "      <td>4703.0</td>\n",
       "      <td>5539.0</td>\n",
       "      <td>6454.0</td>\n",
       "      <td>6570.0</td>\n",
       "      <td>8314.0</td>\n",
       "    </tr>\n",
       "    <tr>\n",
       "      <th>598</th>\n",
       "      <td>Washington</td>\n",
       "      <td>Total_Nonfarm_Employment</td>\n",
       "      <td>34121.0</td>\n",
       "      <td>44599.0</td>\n",
       "      <td>50308.0</td>\n",
       "      <td>50368.0</td>\n",
       "      <td>62739.0</td>\n",
       "    </tr>\n",
       "    <tr>\n",
       "      <th>621</th>\n",
       "      <td>Wayne</td>\n",
       "      <td>Total_Nonfarm_Employment</td>\n",
       "      <td>1050.0</td>\n",
       "      <td>944.0</td>\n",
       "      <td>1052.0</td>\n",
       "      <td>840.0</td>\n",
       "      <td>952.0</td>\n",
       "    </tr>\n",
       "    <tr>\n",
       "      <th>644</th>\n",
       "      <td>Weber</td>\n",
       "      <td>Total_Nonfarm_Employment</td>\n",
       "      <td>87868.0</td>\n",
       "      <td>90492.0</td>\n",
       "      <td>95150.0</td>\n",
       "      <td>93043.0</td>\n",
       "      <td>104918.0</td>\n",
       "    </tr>\n",
       "    <tr>\n",
       "      <th>667</th>\n",
       "      <td>Statewide</td>\n",
       "      <td>Total_Nonfarm_Employment</td>\n",
       "      <td>1094655.0</td>\n",
       "      <td>1129836.0</td>\n",
       "      <td>1250482.0</td>\n",
       "      <td>1277557.0</td>\n",
       "      <td>1455222.0</td>\n",
       "    </tr>\n",
       "  </tbody>\n",
       "</table>\n",
       "</div>"
      ],
      "text/plain": [
       "         County               Description    Q4_2000    Q4_2004    Q4_2008  \\\n",
       "0        Beaver  Total_Nonfarm_Employment     1838.0     1889.0     2131.0   \n",
       "23    Box_Elder  Total_Nonfarm_Employment    17897.0    18494.0    20056.0   \n",
       "46        Cache  Total_Nonfarm_Employment    43302.0    47479.0    51417.0   \n",
       "69       Carbon  Total_Nonfarm_Employment     8695.0     8740.0    10162.0   \n",
       "92      Daggett  Total_Nonfarm_Employment      413.0      398.0      378.0   \n",
       "115       Davis  Total_Nonfarm_Employment    86187.0    94930.0   102731.0   \n",
       "138    Duchesne  Total_Nonfarm_Employment     4906.0     5553.0     8810.0   \n",
       "161       Emery  Total_Nonfarm_Employment     3509.0     3753.0     3542.0   \n",
       "184    Garfield  Total_Nonfarm_Employment     1991.0     2076.0     2274.0   \n",
       "207       Grand  Total_Nonfarm_Employment     3976.0     3990.0     4403.0   \n",
       "230        Iron  Total_Nonfarm_Employment    14457.0    15685.0    16852.0   \n",
       "253        Juab  Total_Nonfarm_Employment     2539.0     2916.0     3407.0   \n",
       "276        Kane  Total_Nonfarm_Employment     2714.0     2721.0     3097.0   \n",
       "299     Millard  Total_Nonfarm_Employment     3494.0     3827.0     3968.0   \n",
       "322      Morgan  Total_Nonfarm_Employment     1561.0     1876.0     1887.0   \n",
       "345       Piute  Total_Nonfarm_Employment      237.0      339.0      362.0   \n",
       "368        Rich  Total_Nonfarm_Employment      475.0      592.0      700.0   \n",
       "391   Salt_Lake  Total_Nonfarm_Employment   556442.0   546519.0   602520.0   \n",
       "414    San_Juan  Total_Nonfarm_Employment     3905.0     3867.0     4214.0   \n",
       "437     Sanpete  Total_Nonfarm_Employment     7088.0     7109.0     7791.0   \n",
       "460      Sevier  Total_Nonfarm_Employment     7128.0     7581.0     8053.0   \n",
       "483      Summit  Total_Nonfarm_Employment    15442.0    17991.0    21744.0   \n",
       "506      Tooele  Total_Nonfarm_Employment    11478.0    12609.0    15538.0   \n",
       "529      Uintah  Total_Nonfarm_Employment     9586.0    11174.0    15945.0   \n",
       "552        Utah  Total_Nonfarm_Employment   157657.0   166154.0   185535.0   \n",
       "575     Wasatch  Total_Nonfarm_Employment     4703.0     5539.0     6454.0   \n",
       "598  Washington  Total_Nonfarm_Employment    34121.0    44599.0    50308.0   \n",
       "621       Wayne  Total_Nonfarm_Employment     1050.0      944.0     1052.0   \n",
       "644       Weber  Total_Nonfarm_Employment    87868.0    90492.0    95150.0   \n",
       "667   Statewide  Total_Nonfarm_Employment  1094655.0  1129836.0  1250482.0   \n",
       "\n",
       "       Q4_2012    Q4_2016  \n",
       "0       2160.0     2217.0  \n",
       "23     16469.0    20061.0  \n",
       "46     52889.0    58513.0  \n",
       "69      8997.0     8307.0  \n",
       "92       376.0      368.0  \n",
       "115   109551.0   124198.0  \n",
       "138     9241.0     7702.0  \n",
       "161     3374.0     3048.0  \n",
       "184     2066.0     2208.0  \n",
       "207     4547.0     5125.0  \n",
       "230    15688.0    18259.0  \n",
       "253     3183.0     3491.0  \n",
       "276     2896.0     3279.0  \n",
       "299     3907.0     4165.0  \n",
       "322     1807.0     2165.0  \n",
       "345      251.0      235.0  \n",
       "368      519.0      658.0  \n",
       "391   618246.0   697332.0  \n",
       "414     3972.0     4155.0  \n",
       "437     7402.0     7991.0  \n",
       "460     8049.0     8488.0  \n",
       "483    22962.0    26109.0  \n",
       "506    15628.0    16178.0  \n",
       "529    14966.0    12167.0  \n",
       "552   197581.0   241834.0  \n",
       "575     6570.0     8314.0  \n",
       "598    50368.0    62739.0  \n",
       "621      840.0      952.0  \n",
       "644    93043.0   104918.0  \n",
       "667  1277557.0  1455222.0  "
      ]
     },
     "execution_count": 8,
     "metadata": {},
     "output_type": "execute_result"
    }
   ],
   "source": [
    "fouryears_total"
   ]
  },
  {
   "cell_type": "markdown",
   "metadata": {},
   "source": [
    "We then wanted to select for only the counties outside the Wasatch Front. It is difficult to define rural Utah, but the Governor has decided to focus on the 25 counties outside the Wasatch Front. So we created a variable that includes only the counties outside the Wasatch Front, then filtred the data to only those counties. That gave us the total for the counties we wanted to look at. "
   ]
  },
  {
   "cell_type": "code",
   "execution_count": 10,
   "metadata": {
    "collapsed": true,
    "deletable": true,
    "editable": true
   },
   "outputs": [],
   "source": [
    "non_wasatch = ['Wayne', 'Washington', 'Wasatch', 'Uintah', 'Tooele', 'Summit', 'Sevier', 'Sanpete', 'San_Juan', 'Rich', 'Piute', 'Morgan', 'Millard', 'Kane', 'Juab', 'Iron', 'Grand', 'Garfield', 'Emery', 'Duchesne', 'Daggett', 'Carbon', 'Cache', 'Box_Elder', 'Beaver']"
   ]
  },
  {
   "cell_type": "code",
   "execution_count": 11,
   "metadata": {
    "collapsed": false,
    "deletable": true,
    "editable": true
   },
   "outputs": [],
   "source": [
    "rural_emp = fouryears_total[fouryears_total.County.isin(non_wasatch)]"
   ]
  },
  {
   "cell_type": "markdown",
   "metadata": {
    "collapsed": false,
    "deletable": true,
    "editable": true
   },
   "source": [
    "We then got the total for the rural counties for each year. "
   ]
  },
  {
   "cell_type": "code",
   "execution_count": 67,
   "metadata": {
    "collapsed": true,
    "deletable": true,
    "editable": true
   },
   "outputs": [],
   "source": [
    "rural_q42016 = rural_emp.Q4_2016.sum()"
   ]
  },
  {
   "cell_type": "code",
   "execution_count": 68,
   "metadata": {
    "collapsed": true,
    "deletable": true,
    "editable": true
   },
   "outputs": [],
   "source": [
    "rural_q42012 = rural_emp.Q4_2012.sum()"
   ]
  },
  {
   "cell_type": "code",
   "execution_count": 69,
   "metadata": {
    "collapsed": true,
    "deletable": true,
    "editable": true
   },
   "outputs": [],
   "source": [
    "rural_q42008 = rural_emp.Q4_2008.sum()"
   ]
  },
  {
   "cell_type": "code",
   "execution_count": 70,
   "metadata": {
    "collapsed": true,
    "deletable": true,
    "editable": true
   },
   "outputs": [],
   "source": [
    "rural_q42004 = rural_emp.Q4_2004.sum()"
   ]
  },
  {
   "cell_type": "code",
   "execution_count": 71,
   "metadata": {
    "collapsed": true,
    "deletable": true,
    "editable": true
   },
   "outputs": [],
   "source": [
    "rural_q42000 = rural_emp.Q4_2000.sum()"
   ]
  },
  {
   "cell_type": "markdown",
   "metadata": {},
   "source": [
    "Once we had all the totals, we could calculate the job growth in each four year period. From 2000-2004 rural Utah added 25,236 jobs:"
   ]
  },
  {
   "cell_type": "code",
   "execution_count": 72,
   "metadata": {
    "collapsed": false,
    "deletable": true,
    "editable": true
   },
   "outputs": [
    {
     "data": {
      "text/plain": [
       "25236.0"
      ]
     },
     "execution_count": 72,
     "metadata": {},
     "output_type": "execute_result"
    }
   ],
   "source": [
    "rural_q42004 - rural_q42000"
   ]
  },
  {
   "cell_type": "markdown",
   "metadata": {},
   "source": [
    "From 2004-2008, rural Utah added 32,804 jobs:"
   ]
  },
  {
   "cell_type": "code",
   "execution_count": 73,
   "metadata": {
    "collapsed": false,
    "deletable": true,
    "editable": true
   },
   "outputs": [
    {
     "data": {
      "text/plain": [
       "32804.0"
      ]
     },
     "execution_count": 73,
     "metadata": {},
     "output_type": "execute_result"
    }
   ],
   "source": [
    "rural_q42008 - rural_q42004"
   ]
  },
  {
   "cell_type": "markdown",
   "metadata": {},
   "source": [
    "From 2008-2012, rural Utah lost 5,418 jobs:"
   ]
  },
  {
   "cell_type": "code",
   "execution_count": 74,
   "metadata": {
    "collapsed": false,
    "deletable": true,
    "editable": true
   },
   "outputs": [
    {
     "data": {
      "text/plain": [
       "-5418.0"
      ]
     },
     "execution_count": 74,
     "metadata": {},
     "output_type": "execute_result"
    }
   ],
   "source": [
    "rural_q42012 - rural_q42008"
   ]
  },
  {
   "cell_type": "markdown",
   "metadata": {},
   "source": [
    "From 2012-2016, rural Utah added 27,767 jobs:"
   ]
  },
  {
   "cell_type": "code",
   "execution_count": 75,
   "metadata": {
    "collapsed": false,
    "deletable": true,
    "editable": true
   },
   "outputs": [
    {
     "data": {
      "text/plain": [
       "27767.0"
      ]
     },
     "execution_count": 75,
     "metadata": {},
     "output_type": "execute_result"
    }
   ],
   "source": [
    "rural_q42016 - rural_q42012"
   ]
  },
  {
   "cell_type": "markdown",
   "metadata": {
    "collapsed": true,
    "deletable": true,
    "editable": true
   },
   "source": [
    "According to Governor Herbert's plan, in the next four years, rural Utah will add 25,000 jobs, a relatively low goal compared to other periods when there was no added government job creation effort."
   ]
  },
  {
   "cell_type": "code",
   "execution_count": null,
   "metadata": {
    "collapsed": true
   },
   "outputs": [],
   "source": []
  }
 ],
 "metadata": {
  "kernelspec": {
   "display_name": "Python 2",
   "language": "python",
   "name": "python2"
  },
  "language_info": {
   "codemirror_mode": {
    "name": "ipython",
    "version": 2
   },
   "file_extension": ".py",
   "mimetype": "text/x-python",
   "name": "python",
   "nbconvert_exporter": "python",
   "pygments_lexer": "ipython2",
   "version": "2.7.13"
  }
 },
 "nbformat": 4,
 "nbformat_minor": 2
}
